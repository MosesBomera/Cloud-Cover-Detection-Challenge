{
 "cells": [
  {
   "cell_type": "markdown",
   "id": "de83e3f0-8168-4b6b-b09f-1fb574fa6556",
   "metadata": {},
   "source": [
    "# CCDC Submission"
   ]
  },
  {
   "cell_type": "markdown",
   "id": "e9d34876-4603-4ecc-8281-0f69d33f71c9",
   "metadata": {},
   "source": [
    "### LIBRARIES"
   ]
  },
  {
   "cell_type": "code",
   "execution_count": 1,
   "id": "ec65343d-235f-47c9-86b6-9169ea6c75e0",
   "metadata": {},
   "outputs": [],
   "source": [
    "import shutil\n",
    "import rasterio\n",
    "import pyproj\n",
    "import matplotlib.pyplot as plt\n",
    "import numpy as np\n",
    "import pandas as pd\n",
    "from pandas_path import path  # noqa\n",
    "from pathlib import Path\n",
    "from PIL import Image\n",
    "import pytorch_lightning as pl\n",
    "import torch"
   ]
  },
  {
   "cell_type": "code",
   "execution_count": 4,
   "id": "c656cc82-e112-431f-82f7-53a04847e475",
   "metadata": {},
   "outputs": [],
   "source": [
    "from train_src.cloud_model import CloudModel"
   ]
  },
  {
   "cell_type": "markdown",
   "id": "6ac23b2a-b962-40a5-ad49-cec1b152e395",
   "metadata": {},
   "source": [
    "### LOAD MODEL WEIGHTS"
   ]
  },
  {
   "cell_type": "markdown",
   "id": "6fec06de-2192-4c2f-bb61-a1a034c57cbc",
   "metadata": {},
   "source": [
    "| No | Model | Backbone | Weights | Folder | Accuracy |\n",
    "| --- | --- | --- | -- | -- | -- | \n",
    "| 1 | unet | resnet50 | imagenet | lightning_logs/version_9/checkpoints/epoch=33-step=33455.ckpt | .883 |"
   ]
  },
  {
   "cell_type": "code",
   "execution_count": 5,
   "id": "cdd0a73c-9d8f-4a4e-93c2-8b42c0d276f3",
   "metadata": {},
   "outputs": [],
   "source": [
    "# Baseline submission.\n",
    "model = CloudModel.load_from_checkpoint(checkpoint_path=\"lightning_logs/version_9/checkpoints/epoch=33-step=33455.ckpt\")"
   ]
  },
  {
   "cell_type": "markdown",
   "id": "549158a3-339b-45eb-8aab-e6017e074e84",
   "metadata": {},
   "source": [
    "### GENERATE A SUBMISSION"
   ]
  },
  {
   "cell_type": "code",
   "execution_count": 6,
   "id": "9d57dcac-0226-4826-a1bd-51c82a74650a",
   "metadata": {},
   "outputs": [],
   "source": [
    "# create benchmark_src folder\n",
    "submission_dir = Path(\"submission\")"
   ]
  },
  {
   "cell_type": "code",
   "execution_count": 5,
   "id": "fa9153ff-5ab3-4135-9acb-123ccef0c46d",
   "metadata": {},
   "outputs": [],
   "source": [
    "# save the model\n",
    "submission_assets_dir = submission_dir / \"assets\"\n",
    "submission_assets_dir.mkdir(parents=True, exist_ok=True)\n",
    "\n",
    "model_weight_path = submission_assets_dir / \"cloud_model.pt\"\n",
    "torch.save(model.state_dict(), model_weight_path)"
   ]
  },
  {
   "cell_type": "markdown",
   "id": "510fbdc9-28ff-4cc1-a820-8f78a521a451",
   "metadata": {},
   "source": [
    "#### main.py"
   ]
  },
  {
   "cell_type": "code",
   "execution_count": 9,
   "id": "b8440df2-f324-4d3f-bf9e-1733e3f41781",
   "metadata": {},
   "outputs": [
    {
     "name": "stdout",
     "output_type": "stream",
     "text": [
      "Overwriting submission/main.py\n"
     ]
    }
   ],
   "source": [
    "%%file {submission_dir}/main.py\n",
    "import os\n",
    "from pathlib import Path\n",
    "from typing import List\n",
    "\n",
    "from loguru import logger\n",
    "import pandas as pd\n",
    "from PIL import Image\n",
    "import torch\n",
    "import typer\n",
    "\n",
    "try:\n",
    "    from cloud_dataset import CloudDataset\n",
    "    from cloud_model import CloudModel\n",
    "except ImportError:\n",
    "    from submission.cloud_dataset import CloudDataset\n",
    "    from submission.cloud_model import CloudModel\n",
    "\n",
    "\n",
    "ROOT_DIRECTORY = Path(\"/codeexecution\")\n",
    "PREDICTIONS_DIRECTORY = ROOT_DIRECTORY / \"predictions\"\n",
    "ASSETS_DIRECTORY = ROOT_DIRECTORY / \"assets\"\n",
    "DATA_DIRECTORY = ROOT_DIRECTORY / \"data\"\n",
    "INPUT_IMAGES_DIRECTORY = DATA_DIRECTORY / \"test_features\"\n",
    "\n",
    "# Set the pytorch cache directory and include cached models in your submission.zip\n",
    "os.environ[\"TORCH_HOME\"] = str(ASSETS_DIRECTORY / \"assets/torch\")\n",
    "\n",
    "\n",
    "def get_metadata(features_dir: os.PathLike, bands: List[str]):\n",
    "    \"\"\"\n",
    "    Given a folder of feature data, return a dataframe where the index is the chip id\n",
    "    and there is a column for the path to each band's TIF image.\n",
    "\n",
    "    Args:\n",
    "        features_dir (os.PathLike): path to the directory of feature data, which should have\n",
    "            a folder for each chip\n",
    "        bands (list[str]): list of bands provided for each chip\n",
    "    \"\"\"\n",
    "    chip_metadata = pd.DataFrame(index=[f\"{band}_path\" for band in bands])\n",
    "    chip_ids = (\n",
    "        pth.name for pth in features_dir.iterdir() if not pth.name.startswith(\".\")\n",
    "    )\n",
    "\n",
    "    for chip_id in chip_ids:\n",
    "        chip_bands = [features_dir / chip_id / f\"{band}.tif\" for band in bands]\n",
    "        chip_metadata[chip_id] = chip_bands\n",
    "\n",
    "    return chip_metadata.transpose().reset_index().rename(columns={\"index\": \"chip_id\"})\n",
    "\n",
    "\n",
    "def make_predictions(\n",
    "    model: CloudModel,\n",
    "    x_paths: pd.DataFrame,\n",
    "    bands: List[str],\n",
    "    predictions_dir: os.PathLike,\n",
    "):\n",
    "    \"\"\"Predicts cloud cover and saves results to the predictions directory.\n",
    "\n",
    "    Args:\n",
    "        model (CloudModel): an instantiated CloudModel based on pl.LightningModule\n",
    "        x_paths (pd.DataFrame): a dataframe with a row for each chip. There must be a column for chip_id,\n",
    "                and a column with the path to the TIF for each of bands provided\n",
    "        bands (list[str]): list of bands provided for each chip\n",
    "        predictions_dir (os.PathLike): Destination directory to save the predicted TIF masks\n",
    "    \"\"\"\n",
    "    test_dataset = CloudDataset(x_paths=x_paths, bands=bands)\n",
    "    test_dataloader = torch.utils.data.DataLoader(\n",
    "        test_dataset,\n",
    "        batch_size=model.batch_size,\n",
    "        num_workers=model.num_workers,\n",
    "        shuffle=False,\n",
    "        pin_memory=True,\n",
    "    )\n",
    "\n",
    "    for batch_index, batch in enumerate(test_dataloader):\n",
    "        logger.debug(f\"Predicting batch {batch_index} of {len(test_dataloader)}\")\n",
    "        x = batch[\"chip\"]\n",
    "        preds = model.forward(x)\n",
    "        preds = torch.softmax(preds, dim=1)[:, 1]\n",
    "        preds = (preds > 0.5).detach().numpy().astype(\"uint8\")\n",
    "        for chip_id, pred in zip(batch[\"chip_id\"], preds):\n",
    "            chip_pred_path = predictions_dir / f\"{chip_id}.tif\"\n",
    "            chip_pred_im = Image.fromarray(pred)\n",
    "            chip_pred_im.save(chip_pred_path)\n",
    "\n",
    "\n",
    "def main(\n",
    "    model_weights_path: Path = ASSETS_DIRECTORY / \"cloud_model.pt\",\n",
    "    test_features_dir: Path = DATA_DIRECTORY / \"test_features\",\n",
    "    predictions_dir: Path = PREDICTIONS_DIRECTORY,\n",
    "    bands: List[str] = [\"B02\", \"B03\", \"B04\", \"B08\"],\n",
    "    fast_dev_run: bool = False,\n",
    "):\n",
    "    \"\"\"\n",
    "    Generate predictions for the chips in test_features_dir using the model saved at\n",
    "    model_weights_path.\n",
    "\n",
    "    Predictions are saved in predictions_dir. The default paths to all three files are based on\n",
    "    the structure of the code execution runtime.\n",
    "\n",
    "    Args:\n",
    "        model_weights_path (os.PathLike): Path to the weights of a trained CloudModel.\n",
    "        test_features_dir (os.PathLike, optional): Path to the features for the test data. Defaults\n",
    "            to 'data/test_features' in the same directory as main.py\n",
    "        predictions_dir (os.PathLike, optional): Destination directory to save the predicted TIF masks\n",
    "            Defaults to 'predictions' in the same directory as main.py\n",
    "        bands (List[str], optional): List of bands provided for each chip\n",
    "    \"\"\"\n",
    "    if not test_features_dir.exists():\n",
    "        raise ValueError(\n",
    "            f\"The directory for test feature images must exist and {test_features_dir} does not exist\"\n",
    "        )\n",
    "    predictions_dir.mkdir(exist_ok=True, parents=True)\n",
    "\n",
    "    logger.info(\"Loading model\")\n",
    "    model = CloudModel(bands=bands, hparams={\"weights\": None})\n",
    "    model.load_state_dict(torch.load(model_weights_path))\n",
    "\n",
    "    logger.info(\"Loading test metadata\")\n",
    "    test_metadata = get_metadata(test_features_dir, bands=bands)\n",
    "    if fast_dev_run:\n",
    "        test_metadata = test_metadata.head()\n",
    "    logger.info(f\"Found {len(test_metadata)} chips\")\n",
    "\n",
    "    logger.info(\"Generating predictions in batches\")\n",
    "    make_predictions(model, test_metadata, bands, predictions_dir)\n",
    "\n",
    "    logger.info(f\"\"\"Saved {len(list(predictions_dir.glob(\"*.tif\")))} predictions\"\"\")\n",
    "\n",
    "\n",
    "if __name__ == \"__main__\":\n",
    "    typer.run(main)"
   ]
  },
  {
   "cell_type": "markdown",
   "id": "76941144-9a89-41aa-ae57-a5405353dc70",
   "metadata": {},
   "source": [
    "### Test"
   ]
  },
  {
   "cell_type": "code",
   "execution_count": 11,
   "id": "67c694c1-c884-4590-99a1-2f5cd81f049d",
   "metadata": {},
   "outputs": [],
   "source": [
    "DATA_DIR = Path(\"/driven-data/cloud-cover\")\n",
    "TRAIN_FEATURES = DATA_DIR / \"train_features\""
   ]
  },
  {
   "cell_type": "code",
   "execution_count": 12,
   "id": "e4732495-4400-4704-a753-c7c7386ff427",
   "metadata": {},
   "outputs": [
    {
     "name": "stderr",
     "output_type": "stream",
     "text": [
      "2022-01-23 09:51:55.105 | INFO     | submission.main:main:115 - Loading model\n",
      "2022-01-23 09:51:55.619 | INFO     | submission.main:main:119 - Loading test metadata\n",
      "2022-01-23 09:52:04.067 | INFO     | submission.main:main:123 - Found 5 chips\n",
      "2022-01-23 09:52:04.068 | INFO     | submission.main:main:125 - Generating predictions in batches\n",
      "2022-01-23 09:52:06.335 | DEBUG    | submission.main:make_predictions:76 - Predicting batch 0 of 1\n",
      "2022-01-23 09:52:13.138 | INFO     | submission.main:main:128 - Saved 5 predictions\n"
     ]
    }
   ],
   "source": [
    "from submission.main import main\n",
    "\n",
    "main(\n",
    "    model_weights_path=submission_dir / \"assets/cloud_model.pt\",\n",
    "    test_features_dir=TRAIN_FEATURES,\n",
    "    predictions_dir=submission_dir / \"predictions\",\n",
    "    fast_dev_run=True,\n",
    ")"
   ]
  },
  {
   "cell_type": "code",
   "execution_count": 10,
   "id": "f7c915a2-93c3-4109-a3d8-2078dedb1236",
   "metadata": {},
   "outputs": [],
   "source": [
    "# Remove predictions folder\n",
    "!rm -rf {submission_dir}/predictions"
   ]
  },
  {
   "cell_type": "markdown",
   "id": "d7210f20-b587-4050-bcee-36eb8a40476e",
   "metadata": {},
   "source": [
    "### ZIP SUMBSISISSION FILES"
   ]
  },
  {
   "cell_type": "code",
   "execution_count": 11,
   "id": "49843778-2565-48b8-8cba-d73167ec17f5",
   "metadata": {},
   "outputs": [],
   "source": [
    "# clear out our pycache before zipping up submission\n",
    "!rm -rf {submission_dir}/__pycache__"
   ]
  },
  {
   "cell_type": "code",
   "execution_count": 12,
   "id": "0ca3dc12-5ef6-407c-86c2-ce635a87b273",
   "metadata": {},
   "outputs": [
    {
     "name": "stdout",
     "output_type": "stream",
     "text": [
      "\u001b[01;34msubmission\u001b[00m\n",
      "├── \u001b[01;34massets\u001b[00m\n",
      "│   └── cloud_model.pt\n",
      "├── cloud_dataset.py\n",
      "├── cloud_model.py\n",
      "├── losses.py\n",
      "└── main.py\n",
      "\n",
      "1 directory, 5 files\n"
     ]
    }
   ],
   "source": [
    "!tree {submission_dir}"
   ]
  },
  {
   "cell_type": "code",
   "execution_count": 15,
   "id": "5d4692b9-7d66-4469-a058-9f1cd7216787",
   "metadata": {},
   "outputs": [
    {
     "name": "stdout",
     "output_type": "stream",
     "text": [
      "  adding: assets/ (stored 0%)\n",
      "  adding: assets/cloud_model.pt (deflated 7%)\n",
      "  adding: cloud_dataset.py (deflated 63%)\n",
      "  adding: cloud_model.py (deflated 74%)\n",
      "  adding: losses.py (deflated 57%)\n",
      "  adding: main.py (deflated 64%)\n"
     ]
    }
   ],
   "source": [
    "# Zip submission\n",
    "!cd {submission_dir} && zip -r ../submission.zip *"
   ]
  },
  {
   "cell_type": "code",
   "execution_count": 16,
   "id": "fa0fb3b5-98c2-42a8-bfb6-4fd362a447b5",
   "metadata": {},
   "outputs": [
    {
     "name": "stdout",
     "output_type": "stream",
     "text": [
      "116M\tsubmission.zip\n"
     ]
    }
   ],
   "source": [
    "!du -h submission.zip"
   ]
  },
  {
   "cell_type": "code",
   "execution_count": null,
   "id": "f80b9422-71d3-471c-adf4-99f4807974bd",
   "metadata": {},
   "outputs": [],
   "source": []
  }
 ],
 "metadata": {
  "kernelspec": {
   "display_name": "Python 3 (ipykernel)",
   "language": "python",
   "name": "python3"
  },
  "language_info": {
   "codemirror_mode": {
    "name": "ipython",
    "version": 3
   },
   "file_extension": ".py",
   "mimetype": "text/x-python",
   "name": "python",
   "nbconvert_exporter": "python",
   "pygments_lexer": "ipython3",
   "version": "3.8.12"
  }
 },
 "nbformat": 4,
 "nbformat_minor": 5
}
